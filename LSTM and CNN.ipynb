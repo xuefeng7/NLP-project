{
 "cells": [
  {
   "cell_type": "code",
   "execution_count": 4,
   "metadata": {
    "collapsed": true
   },
   "outputs": [],
   "source": [
    "import pandas as pd\n",
    "import pickle as pkl\n",
    "import string\n",
    "import numpy as np; np.random.seed(7)\n",
    "import torch\n",
    "import torch.nn as nn\n",
    "from torch.autograd import Variable\n",
    "from torch.utils.data import TensorDataset, DataLoader\n",
    "import re\n",
    "import time"
   ]
  },
  {
   "cell_type": "markdown",
   "metadata": {},
   "source": [
    "## Data Loadings"
   ]
  },
  {
   "cell_type": "markdown",
   "metadata": {},
   "source": [
    "### word 2 vec repre"
   ]
  },
  {
   "cell_type": "code",
   "execution_count": 5,
   "metadata": {
    "collapsed": true
   },
   "outputs": [],
   "source": [
    "w2v_map = {}\n",
    "with open('data/vectors_pruned.200.txt', 'r') as src:\n",
    "    src = src.read().strip().split('\\n')\n",
    "    for line in src:\n",
    "        wv = line.strip().split(' ')\n",
    "        word = wv.pop(0)\n",
    "        w2v_map[word] = np.array(list(map(float, wv)))"
   ]
  },
  {
   "cell_type": "code",
   "execution_count": 6,
   "metadata": {
    "collapsed": true
   },
   "outputs": [],
   "source": [
    "w2i_map = {}\n",
    "for i, key in enumerate(w2v_map.keys()):\n",
    "    w2i_map[key] = i"
   ]
  },
  {
   "cell_type": "code",
   "execution_count": 101,
   "metadata": {
    "collapsed": true
   },
   "outputs": [],
   "source": [
    "pkl.dump(w2i_map, open('data/word_idx_map.pkl','wb'))"
   ]
  },
  {
   "cell_type": "markdown",
   "metadata": {},
   "source": [
    "### map Q idx to context"
   ]
  },
  {
   "cell_type": "code",
   "execution_count": 7,
   "metadata": {
    "collapsed": true
   },
   "outputs": [],
   "source": [
    "w2v_matrix = np.zeros(( len((w2v_map.keys())), 200 ))\n",
    "counter = 0\n",
    "for _, val in w2v_map.items():\n",
    "    w2v_matrix[counter] = val\n",
    "    counter += 1"
   ]
  },
  {
   "cell_type": "code",
   "execution_count": 102,
   "metadata": {
    "collapsed": true
   },
   "outputs": [],
   "source": [
    "pkl.dump(w2i_map, open('data/w2v_matrix.pkl','wb'))"
   ]
  },
  {
   "cell_type": "code",
   "execution_count": 8,
   "metadata": {
    "collapsed": true
   },
   "outputs": [],
   "source": [
    "def w2v(w):\n",
    "    return w2v_matrix[w2i_map[w]]"
   ]
  },
  {
   "cell_type": "code",
   "execution_count": 9,
   "metadata": {
    "collapsed": true
   },
   "outputs": [],
   "source": [
    "def sen2w(sen):\n",
    "    processed = []\n",
    "    sen = re.sub(r'[!#\\'(),/:?\\{}]', ' ', sen).strip().split()\n",
    "    if len(sen) > 100:\n",
    "        sen = sen[:100]\n",
    "    for w in sen:\n",
    "        # ignore date\n",
    "        if re.match(r'\\d{1,}-\\d{1,}-\\d{1,}', w):\n",
    "            continue\n",
    "        if re.match(r'\\d{1,}:\\d{1,}', w):\n",
    "            continue\n",
    "        if w in w2i_map:\n",
    "            processed += [w]\n",
    "        else:\n",
    "            separated = re.findall(r\"[^\\W\\d_]+|\\d+|[=`%$\\^\\-@;\\[&_*>\\].<~|+\\d+]\", w)\n",
    "            for separate_w in separated:\n",
    "                if separate_w in w2i_map:\n",
    "                    processed += [separate_w]\n",
    "    return processed"
   ]
  },
  {
   "cell_type": "code",
   "execution_count": 10,
   "metadata": {
    "collapsed": true
   },
   "outputs": [],
   "source": [
    "context_repre = {}\n",
    "with open('data/text_tokenized.txt', 'r') as src:\n",
    "    src = src.read().strip().split('\\n')\n",
    "    for line in src:\n",
    "        context = line.strip().split('\\t')\n",
    "        qid = context.pop(0)\n",
    "        if len(context) == 1:\n",
    "            context_repre[int(qid)] = {'t': sen2w(context[0]), 'b': None}\n",
    "        else:\n",
    "            context_repre[int(qid)] = {'t':sen2w(context[0]), 'b': sen2w(context[1])}"
   ]
  },
  {
   "cell_type": "markdown",
   "metadata": {},
   "source": [
    "### pair building --- (q, q+), (q, q-)"
   ]
  },
  {
   "cell_type": "code",
   "execution_count": 11,
   "metadata": {
    "collapsed": true
   },
   "outputs": [],
   "source": [
    "train_df = pd.read_csv('data/train_random.txt', header=None, delimiter='\\t', names=['Q','Q+','Q-'])"
   ]
  },
  {
   "cell_type": "code",
   "execution_count": 12,
   "metadata": {},
   "outputs": [
    {
     "data": {
      "text/html": [
       "<div>\n",
       "<style>\n",
       "    .dataframe thead tr:only-child th {\n",
       "        text-align: right;\n",
       "    }\n",
       "\n",
       "    .dataframe thead th {\n",
       "        text-align: left;\n",
       "    }\n",
       "\n",
       "    .dataframe tbody tr th {\n",
       "        vertical-align: top;\n",
       "    }\n",
       "</style>\n",
       "<table border=\"1\" class=\"dataframe\">\n",
       "  <thead>\n",
       "    <tr style=\"text-align: right;\">\n",
       "      <th></th>\n",
       "      <th>Q</th>\n",
       "      <th>Q+</th>\n",
       "      <th>Q-</th>\n",
       "    </tr>\n",
       "  </thead>\n",
       "  <tbody>\n",
       "    <tr>\n",
       "      <th>0</th>\n",
       "      <td>262144</td>\n",
       "      <td>211039</td>\n",
       "      <td>227387 413633 113297 356390 256881 145638 2962...</td>\n",
       "    </tr>\n",
       "    <tr>\n",
       "      <th>1</th>\n",
       "      <td>491522</td>\n",
       "      <td>65911</td>\n",
       "      <td>155119 402211 310669 383107 131731 299465 1633...</td>\n",
       "    </tr>\n",
       "    <tr>\n",
       "      <th>2</th>\n",
       "      <td>240299</td>\n",
       "      <td>168608 390642</td>\n",
       "      <td>368007 70009 48077 376760 438005 228888 142340...</td>\n",
       "    </tr>\n",
       "    <tr>\n",
       "      <th>3</th>\n",
       "      <td>196614</td>\n",
       "      <td>205184</td>\n",
       "      <td>334471 163710 376791 441664 159963 406360 4300...</td>\n",
       "    </tr>\n",
       "    <tr>\n",
       "      <th>4</th>\n",
       "      <td>360457</td>\n",
       "      <td>321532</td>\n",
       "      <td>151863 501857 217578 470017 125838 31836 42066...</td>\n",
       "    </tr>\n",
       "  </tbody>\n",
       "</table>\n",
       "</div>"
      ],
      "text/plain": [
       "        Q             Q+                                                 Q-\n",
       "0  262144         211039  227387 413633 113297 356390 256881 145638 2962...\n",
       "1  491522          65911  155119 402211 310669 383107 131731 299465 1633...\n",
       "2  240299  168608 390642  368007 70009 48077 376760 438005 228888 142340...\n",
       "3  196614         205184  334471 163710 376791 441664 159963 406360 4300...\n",
       "4  360457         321532  151863 501857 217578 470017 125838 31836 42066..."
      ]
     },
     "execution_count": 12,
     "metadata": {},
     "output_type": "execute_result"
    }
   ],
   "source": [
    "train_df.head()"
   ]
  },
  {
   "cell_type": "code",
   "execution_count": 13,
   "metadata": {
    "collapsed": true
   },
   "outputs": [],
   "source": [
    "def build_set_pair_with_idx(df):\n",
    "    idx_set = {}\n",
    "    for idx, row in df.iterrows():\n",
    "        idx_set[row['Q']] = {'pos': np.array(list(map(int, row['Q+'].split(' ')))), \\\n",
    "                             'neg': np.array(list(map(int, row['Q-'].split(' '))))}\n",
    "    return idx_set"
   ]
  },
  {
   "cell_type": "code",
   "execution_count": 14,
   "metadata": {
    "collapsed": true
   },
   "outputs": [],
   "source": [
    "train_idx_set = build_set_pair_with_idx(train_df)"
   ]
  },
  {
   "cell_type": "markdown",
   "metadata": {},
   "source": [
    "## Process Batch"
   ]
  },
  {
   "cell_type": "code",
   "execution_count": 15,
   "metadata": {
    "collapsed": true
   },
   "outputs": [],
   "source": [
    "def contxt2vec(title, body=None):\n",
    "    \n",
    "    if body == None:\n",
    "        body = []\n",
    "    \n",
    "    v = np.zeros( (len(title) + len(body), 200) )\n",
    "    counter = 0\n",
    "    \n",
    "    for t in title:\n",
    "        v[counter] = w2v(t)\n",
    "        counter += 1\n",
    "\n",
    "    for b in body:\n",
    "        v[counter] = w2v(b)\n",
    "        counter += 1\n",
    "    \n",
    "    return v"
   ]
  },
  {
   "cell_type": "code",
   "execution_count": 16,
   "metadata": {
    "collapsed": true
   },
   "outputs": [],
   "source": [
    "def process_batch(qids, idx_set):\n",
    "    \n",
    "    # per batch element x: vstack, [query_Q x 1; pos_Q x 1; neg_Q x 20]\n",
    "    # per batch element y: vstack, [query_Q=-1; pos_Q=1; neg_Q=0]\n",
    "    batch_x = []\n",
    "    batch_y = []\n",
    "    \n",
    "    max_len = 0\n",
    "    \n",
    "    for qid in qids:\n",
    "        \n",
    "        q_title, q_body = context_repre[qid]['t'], context_repre[qid]['b']\n",
    "        q_pos = idx_set[qid]['pos']\n",
    "\n",
    "        # usually one sample\n",
    "        for qid_pos in q_pos:\n",
    "            title, body = context_repre[qid_pos]['t'], context_repre[qid_pos]['b']\n",
    "            max_len = max(max_len, len(title) + len(body))\n",
    "            # query Q\n",
    "            batch_x += [ (q_title, q_body) ]\n",
    "            batch_y += [-1]\n",
    "            # pos Q\n",
    "            batch_x += [ (title, body) ]\n",
    "            batch_y += [1]\n",
    "        \n",
    "            q_neg = idx_set[qid]['neg']\n",
    "            q_neg_sample_indices = np.random.choice(range(100), size=20)\n",
    "            q_random_neg = q_neg[q_neg_sample_indices]\n",
    "            # neg Q\n",
    "            for qid_neg in q_random_neg:\n",
    "                title, body = context_repre[qid_neg]['t'], context_repre[qid_neg]['b']\n",
    "                max_len = max(max_len, len(title) + len(body))\n",
    "                batch_x += [ (title, body) ]\n",
    "                batch_y += [0]\n",
    "\n",
    "    seq_len = np.zeros((len(batch_x), ), dtype=np.int32)\n",
    "    batch_y = np.array(batch_y)\n",
    "    \n",
    "    # padding\n",
    "    padded_batch_x = np.zeros(( len(batch_x), max_len, 200 ))\n",
    "    for i, (title, body) in enumerate(batch_x):\n",
    "        qv = contxt2vec(title, body)\n",
    "        seq_len[i] = int(qv.shape[0])\n",
    "        padded_batch_x[i,:qv.shape[0]] = qv\n",
    "    \n",
    "    return padded_batch_x, batch_y, seq_len"
   ]
  },
  {
   "cell_type": "code",
   "execution_count": 17,
   "metadata": {},
   "outputs": [],
   "source": [
    "qids = list(train_idx_set.keys())[:10]"
   ]
  },
  {
   "cell_type": "code",
   "execution_count": 18,
   "metadata": {},
   "outputs": [],
   "source": [
    "batch_x, batch_y, seq_len = process_batch(qids, train_idx_set)"
   ]
  },
  {
   "cell_type": "code",
   "execution_count": 19,
   "metadata": {},
   "outputs": [
    {
     "data": {
      "text/plain": [
       "(242,)"
      ]
     },
     "execution_count": 19,
     "metadata": {},
     "output_type": "execute_result"
    }
   ],
   "source": [
    "batch_y.shape"
   ]
  },
  {
   "cell_type": "markdown",
   "metadata": {},
   "source": [
    "## Models"
   ]
  },
  {
   "cell_type": "code",
   "execution_count": 151,
   "metadata": {
    "collapsed": true
   },
   "outputs": [],
   "source": [
    "class EmbeddingLayer(nn.Module):\n",
    "    \n",
    "    def __init__(self, input_size, hidden_size, layer_type):\n",
    "        \n",
    "        super(EmbeddingLayer, self).__init__()\n",
    "        \n",
    "        self.hidden_size = hidden_size\n",
    "        \n",
    "        if layer_type == 'lstm':\n",
    "            self.embedding_layer = nn.LSTM(input_size, hidden_size)\n",
    "        elif layer_type == 'cnn':\n",
    "            pass\n",
    "        \n",
    "        self.tanh = nn.Tanh()\n",
    "        self.hidden = self.init_hidden()\n",
    "\n",
    "    def init_hidden(self):\n",
    "        return (Variable(torch.zeros(1, 1, self.hidden_size)), Variable(torch.zeros(1, 1, self.hidden_size)))\n",
    "\n",
    "    def forward(self, context):\n",
    "        lstm_out, self.hidden = self.embedding_layer(context, (self.tanh(self.hidden[0]), self.tanh(self.hidden[1])))\n",
    "        return lstm_out"
   ]
  },
  {
   "cell_type": "code",
   "execution_count": 23,
   "metadata": {
    "collapsed": true
   },
   "outputs": [],
   "source": [
    "def cos_sim(qv, qv_):\n",
    "    return torch.dot(qv, qv_) / ( torch.sqrt(torch.sum(qv ** 2)) * torch.sqrt(torch.sum(qv_ ** 2) ) )"
   ]
  },
  {
   "cell_type": "code",
   "execution_count": 148,
   "metadata": {},
   "outputs": [],
   "source": [
    "def criterion(pos_scores, neg_scores):\n",
    "    diff = neg_scores - pos_scores + 1 # margin=1\n",
    "    loss = torch.mean((diff > 0).float() * diff)\n",
    "    return loss"
   ]
  },
  {
   "cell_type": "code",
   "execution_count": 143,
   "metadata": {
    "collapsed": true
   },
   "outputs": [],
   "source": [
    "embedding_layer = EmbeddingLayer(200, 240, 'lstm')"
   ]
  },
  {
   "cell_type": "code",
   "execution_count": 144,
   "metadata": {
    "collapsed": true
   },
   "outputs": [],
   "source": [
    "qs = Variable(torch.FloatTensor(batch_x))"
   ]
  },
  {
   "cell_type": "code",
   "execution_count": 159,
   "metadata": {
    "collapsed": true
   },
   "outputs": [],
   "source": [
    "def train():\n",
    "    \n",
    "    embedding_layer = EmbeddingLayer(200, 240, 'lstm')\n",
    "    optimizer = torch.optim.Adam(embedding_layer.parameters(), lr=0.005)\n",
    "    \n",
    "    start = time.time()\n",
    "    qs = Variable(torch.FloatTensor(batch_x))\n",
    "    embeddings = embedding_layer(qs)\n",
    "    print ('embedding costs:', time.time() - start)\n",
    "    optimizer.zero_grad()\n",
    "    loss = 0\n",
    "    start = time.time()\n",
    "    \n",
    "    pos_scores = torch.zeros(len(batch_y) // 22, 1)\n",
    "    neg_scores = torch.zeros(len(batch_y) // 22, 1)\n",
    "    \n",
    "    for i, y in enumerate(batch_y):\n",
    "\n",
    "        if y == -1:\n",
    "            qv = torch.mean(embeddings[i][:seq_len[i]], dim=0)\n",
    "            sub_neg_scores = torch.Tensor(20, 1)\n",
    "            neg_counter = 0\n",
    "        elif y == 1:\n",
    "            pos_qv_ = torch.mean(embeddings[i][:seq_len[i]], dim=0)\n",
    "            pos_scores[ i // 22 ] = cos_sim(qv, pos_qv_).data[0]\n",
    "        else:\n",
    "            neg_qv_ = torch.mean(embeddings[i][:seq_len[i]], dim=0)\n",
    "            sub_neg_scores[neg_counter] = cos_sim(qv, neg_qv_).data[0]\n",
    "            neg_counter += 1\n",
    "        if (i + 1) % 22 == 0 and i > 0:\n",
    "            neg_scores[ i // 22 ] = torch.max(sub_neg_scores)\n",
    "    print (pos_scores, neg_scores)\n",
    "    print ('accumulating loss costs:', time.time() - start)\n",
    "    loss = criterion(Variable(pos_scores, requires_grad=True), Variable(neg_scores, requires_grad=True))\n",
    "    print ('loss:', loss)\n",
    "    start = time.time()\n",
    "    loss.backward()\n",
    "    print ('backprop costs:', time.time() - start)\n",
    "    optimizer.step()"
   ]
  },
  {
   "cell_type": "code",
   "execution_count": 160,
   "metadata": {},
   "outputs": [
    {
     "name": "stdout",
     "output_type": "stream",
     "text": [
      "embedding costs: 1.6369600296020508\n",
      "\n",
      " 0.9935\n",
      " 0.9980\n",
      " 0.9990\n",
      " 0.9982\n",
      " 0.9984\n",
      " 0.9992\n",
      " 0.9980\n",
      " 0.9973\n",
      " 0.9947\n",
      " 0.9982\n",
      " 0.9995\n",
      "[torch.FloatTensor of size 11x1]\n",
      " \n",
      " 0.9822\n",
      " 0.9973\n",
      " 0.9986\n",
      " 0.9988\n",
      " 0.9982\n",
      " 0.9986\n",
      " 0.9981\n",
      " 0.9979\n",
      " 0.9955\n",
      " 0.9975\n",
      " 0.9981\n",
      "[torch.FloatTensor of size 11x1]\n",
      "\n",
      "accumulating loss costs: 0.036016225814819336\n",
      "loss: Variable containing:\n",
      " 0.9988\n",
      "[torch.FloatTensor of size 1]\n",
      "\n",
      "backprop costs: 0.0003552436828613281\n"
     ]
    }
   ],
   "source": [
    "train()"
   ]
  },
  {
   "cell_type": "code",
   "execution_count": null,
   "metadata": {
    "collapsed": true
   },
   "outputs": [],
   "source": []
  }
 ],
 "metadata": {
  "kernelspec": {
   "display_name": "Python 3",
   "language": "python",
   "name": "python3"
  },
  "language_info": {
   "codemirror_mode": {
    "name": "ipython",
    "version": 3
   },
   "file_extension": ".py",
   "mimetype": "text/x-python",
   "name": "python",
   "nbconvert_exporter": "python",
   "pygments_lexer": "ipython3",
   "version": "3.6.2"
  }
 },
 "nbformat": 4,
 "nbformat_minor": 2
}
